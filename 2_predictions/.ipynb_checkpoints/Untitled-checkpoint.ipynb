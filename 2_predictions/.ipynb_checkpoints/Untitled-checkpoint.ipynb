{
 "cells": [
  {
   "cell_type": "code",
   "execution_count": 1,
   "id": "c9916516-1e79-4042-85cf-aa8869c91d95",
   "metadata": {},
   "outputs": [],
   "source": [
    "import cv2\n",
    "from yolo_pred import YOLO_Pred"
   ]
  },
  {
   "cell_type": "code",
   "execution_count": 2,
   "id": "4985fcea-7d40-4ae0-ba98-226912e66056",
   "metadata": {},
   "outputs": [],
   "source": [
    "onnx_path = \"./Model/Model12/weights/best.onnx\"\n",
    "yaml_path = \"./data.yaml\"\n",
    "\n",
    "yolo = YOLO_Pred(onnx_path, yaml_path)"
   ]
  },
  {
   "cell_type": "code",
   "execution_count": 3,
   "id": "3773e52d-2248-4737-aed1-f94e1d69f051",
   "metadata": {},
   "outputs": [],
   "source": [
    "img = cv2.imread('./sampletrain.png')\n",
    "cv2.imshow('img', img)\n",
    "cv2.waitKey(0)\n",
    "cv2.destroyAllWindows()"
   ]
  },
  {
   "cell_type": "code",
   "execution_count": 4,
   "id": "9f59c144-17c2-4039-b4ee-72c6c62ebabe",
   "metadata": {},
   "outputs": [],
   "source": [
    "img_preds = yolo.predictions(img)"
   ]
  },
  {
   "cell_type": "code",
   "execution_count": 5,
   "id": "55932dc3-bc04-46da-b135-c295284979c3",
   "metadata": {},
   "outputs": [],
   "source": [
    "cv2.imshow('predictions', img_preds)\n",
    "cv2.waitKey(0)\n",
    "cv2.destroyAllWindows()"
   ]
  },
  {
   "cell_type": "code",
   "execution_count": null,
   "id": "e1bc4351-7f30-4c57-9835-291169fa2ea9",
   "metadata": {},
   "outputs": [],
   "source": [
    "video = ('./testvideo.mp4')\n",
    "cap = cv2.VideoCapture(video)\n",
    "\n",
    "while True:\n",
    "    ret, frame = cap.read()\n",
    "    if ret == False:\n",
    "        print('cannot read video.')\n",
    "        break\n",
    "\n",
    "    pred_img = yolo.predictions(frame)\n",
    "    cv2.imshow('RealTime', pred_img)\n",
    "    if cv2.waitKey(1) == 27\n",
    "        break\n",
    "cv2.waitKey(0)\n",
    "cv2.destroyAllWindows()"
   ]
  },
  {
   "cell_type": "code",
   "execution_count": null,
   "id": "af940fb9-6deb-4f1c-a43f-4e7f3fcbd98c",
   "metadata": {},
   "outputs": [],
   "source": []
  }
 ],
 "metadata": {
  "kernelspec": {
   "display_name": "Python 3 (ipykernel)",
   "language": "python",
   "name": "python3"
  },
  "language_info": {
   "codemirror_mode": {
    "name": "ipython",
    "version": 3
   },
   "file_extension": ".py",
   "mimetype": "text/x-python",
   "name": "python",
   "nbconvert_exporter": "python",
   "pygments_lexer": "ipython3",
   "version": "3.12.8"
  }
 },
 "nbformat": 4,
 "nbformat_minor": 5
}
