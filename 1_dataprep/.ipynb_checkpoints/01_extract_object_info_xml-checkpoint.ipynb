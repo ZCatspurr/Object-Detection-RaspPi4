{
 "cells": [
  {
   "cell_type": "code",
   "execution_count": 7,
   "id": "e6c65b95-cd27-4f94-b7eb-895aaea25be3",
   "metadata": {},
   "outputs": [],
   "source": [
    "import os\n",
    "from glob import glob\n",
    "import pandas as pd\n",
    "from functools import reduce\n",
    "from xml.etree import ElementTree as et"
   ]
  },
  {
   "cell_type": "code",
   "execution_count": 10,
   "id": "f3483bba-b6bd-451c-8774-45c45d7106af",
   "metadata": {},
   "outputs": [],
   "source": [
    "# Load XML files and store in list\n",
    "xml_list = glob('./data_images/*.xml')\n",
    "\n",
    "# replace \\\\ with //\n",
    "xml_list = list(map(lambda x: x.replace('\\\\','/'), xml_list))"
   ]
  },
  {
   "cell_type": "code",
   "execution_count": 11,
   "id": "051fbb6a-0c1e-4e9f-8f5b-4ccbc9fde94d",
   "metadata": {
    "collapsed": true,
    "jupyter": {
     "outputs_hidden": true
    }
   },
   "outputs": [
    {
     "data": {
      "text/plain": [
       "['./data_images/001.xml',\n",
       " './data_images/003.xml',\n",
       " './data_images/004.xml',\n",
       " './data_images/005.xml',\n",
       " './data_images/006.xml',\n",
       " './data_images/007.xml',\n",
       " './data_images/008.xml',\n",
       " './data_images/009.xml',\n",
       " './data_images/010.xml',\n",
       " './data_images/011.xml',\n",
       " './data_images/012.xml',\n",
       " './data_images/013.xml',\n",
       " './data_images/014.xml',\n",
       " './data_images/015.xml',\n",
       " './data_images/016.xml',\n",
       " './data_images/019.xml',\n",
       " './data_images/020.xml',\n",
       " './data_images/021.xml',\n",
       " './data_images/022.xml',\n",
       " './data_images/023.xml',\n",
       " './data_images/024.xml',\n",
       " './data_images/025.xml',\n",
       " './data_images/026.xml',\n",
       " './data_images/027.xml',\n",
       " './data_images/028.xml',\n",
       " './data_images/029.xml',\n",
       " './data_images/030.xml',\n",
       " './data_images/031.xml',\n",
       " './data_images/032.xml',\n",
       " './data_images/033.xml',\n",
       " './data_images/034.xml',\n",
       " './data_images/035.xml',\n",
       " './data_images/038.xml',\n",
       " './data_images/039.xml',\n",
       " './data_images/040.xml',\n",
       " './data_images/041.xml',\n",
       " './data_images/042.xml',\n",
       " './data_images/043.xml',\n",
       " './data_images/044.xml',\n",
       " './data_images/045.xml',\n",
       " './data_images/046.xml',\n",
       " './data_images/047.xml',\n",
       " './data_images/048.xml',\n",
       " './data_images/049.xml',\n",
       " './data_images/050.xml',\n",
       " './data_images/052.xml',\n",
       " './data_images/053.xml',\n",
       " './data_images/054.xml',\n",
       " './data_images/055.xml',\n",
       " './data_images/056.xml']"
      ]
     },
     "execution_count": 11,
     "metadata": {},
     "output_type": "execute_result"
    }
   ],
   "source": [
    "xml_list"
   ]
  },
  {
   "cell_type": "code",
   "execution_count": 19,
   "id": "d9436482-2cca-490f-941d-86f292aed5e8",
   "metadata": {},
   "outputs": [],
   "source": [
    "# read and extract file info: name, size(w,h), and\n",
    "# object(name, xmin, xmax, ymin, ymax) -- have to parse\n",
    "\n",
    "def extract_data(filename):\n",
    "    tree = et.parse(filename)\n",
    "    root = tree.getroot();\n",
    "\n",
    "# extract name of file\n",
    "    img_name = root.find('filename').text\n",
    "    \n",
    "    # dimensions of image\n",
    "    width = root.find('size').find('width').text\n",
    "    height = root.find('size').find('height').text\n",
    "    \n",
    "    # coordinates of object, loop for multiple objects in a file\n",
    "    objs = root.findall('object')\n",
    "    parse = []\n",
    "    for obj in objs:\n",
    "        name = obj.find('name').text\n",
    "        boundbox = obj.find('bndbox')\n",
    "        xmin = boundbox.find('xmin').text\n",
    "        xmax = boundbox.find('xmax').text\n",
    "        ymin = boundbox.find('ymin').text\n",
    "        ymax = boundbox.find('ymax').text\n",
    "        parse.append([img_name, width, height, name, xmin, xmax, ymin, ymax])\n",
    "        #print(parse)\n",
    "    return parse"
   ]
  },
  {
   "cell_type": "code",
   "execution_count": 20,
   "id": "3ce971f6-c2dd-453f-9d06-64d3bd474cd3",
   "metadata": {},
   "outputs": [],
   "source": [
    "parse_all = list(map(extract_data, xml_list))"
   ]
  },
  {
   "cell_type": "code",
   "execution_count": 22,
   "id": "02fcaee3-dc9e-4340-88fa-84475e9238b5",
   "metadata": {
    "scrolled": true
   },
   "outputs": [],
   "source": [
    "data = reduce(lambda x, y: x+y, parse_all)"
   ]
  },
  {
   "cell_type": "code",
   "execution_count": 24,
   "id": "0eb19dc1-f126-4e64-be89-a42fa29bf9ba",
   "metadata": {},
   "outputs": [],
   "source": [
    "df = pd.DataFrame(data, columns = ['filename', 'width', 'height', 'name', 'xmin', 'xmax', 'ymin', 'ymax'])"
   ]
  },
  {
   "cell_type": "code",
   "execution_count": 25,
   "id": "146e1fbb-5c2e-4622-8729-59105213b8a8",
   "metadata": {},
   "outputs": [
    {
     "data": {
      "text/html": [
       "<div>\n",
       "<style scoped>\n",
       "    .dataframe tbody tr th:only-of-type {\n",
       "        vertical-align: middle;\n",
       "    }\n",
       "\n",
       "    .dataframe tbody tr th {\n",
       "        vertical-align: top;\n",
       "    }\n",
       "\n",
       "    .dataframe thead th {\n",
       "        text-align: right;\n",
       "    }\n",
       "</style>\n",
       "<table border=\"1\" class=\"dataframe\">\n",
       "  <thead>\n",
       "    <tr style=\"text-align: right;\">\n",
       "      <th></th>\n",
       "      <th>filename</th>\n",
       "      <th>width</th>\n",
       "      <th>height</th>\n",
       "      <th>name</th>\n",
       "      <th>xmin</th>\n",
       "      <th>xmax</th>\n",
       "      <th>ymin</th>\n",
       "      <th>ymax</th>\n",
       "    </tr>\n",
       "  </thead>\n",
       "  <tbody>\n",
       "    <tr>\n",
       "      <th>0</th>\n",
       "      <td>001.png</td>\n",
       "      <td>996</td>\n",
       "      <td>553</td>\n",
       "      <td>train</td>\n",
       "      <td>540</td>\n",
       "      <td>812</td>\n",
       "      <td>199</td>\n",
       "      <td>472</td>\n",
       "    </tr>\n",
       "    <tr>\n",
       "      <th>1</th>\n",
       "      <td>003.png</td>\n",
       "      <td>988</td>\n",
       "      <td>666</td>\n",
       "      <td>train</td>\n",
       "      <td>402</td>\n",
       "      <td>771</td>\n",
       "      <td>270</td>\n",
       "      <td>566</td>\n",
       "    </tr>\n",
       "    <tr>\n",
       "      <th>2</th>\n",
       "      <td>004.png</td>\n",
       "      <td>1132</td>\n",
       "      <td>892</td>\n",
       "      <td>train</td>\n",
       "      <td>438</td>\n",
       "      <td>1053</td>\n",
       "      <td>158</td>\n",
       "      <td>703</td>\n",
       "    </tr>\n",
       "    <tr>\n",
       "      <th>3</th>\n",
       "      <td>005.png</td>\n",
       "      <td>983</td>\n",
       "      <td>1287</td>\n",
       "      <td>train</td>\n",
       "      <td>1</td>\n",
       "      <td>417</td>\n",
       "      <td>434</td>\n",
       "      <td>863</td>\n",
       "    </tr>\n",
       "    <tr>\n",
       "      <th>4</th>\n",
       "      <td>006.png</td>\n",
       "      <td>996</td>\n",
       "      <td>1264</td>\n",
       "      <td>train</td>\n",
       "      <td>422</td>\n",
       "      <td>910</td>\n",
       "      <td>303</td>\n",
       "      <td>1090</td>\n",
       "    </tr>\n",
       "  </tbody>\n",
       "</table>\n",
       "</div>"
      ],
      "text/plain": [
       "  filename width height   name xmin  xmax ymin  ymax\n",
       "0  001.png   996    553  train  540   812  199   472\n",
       "1  003.png   988    666  train  402   771  270   566\n",
       "2  004.png  1132    892  train  438  1053  158   703\n",
       "3  005.png   983   1287  train    1   417  434   863\n",
       "4  006.png   996   1264  train  422   910  303  1090"
      ]
     },
     "execution_count": 25,
     "metadata": {},
     "output_type": "execute_result"
    }
   ],
   "source": [
    "df.head()"
   ]
  },
  {
   "cell_type": "code",
   "execution_count": 26,
   "id": "eba6e80d-f237-4601-9c2b-2e0d73cc305f",
   "metadata": {},
   "outputs": [
    {
     "data": {
      "text/plain": [
       "(51, 8)"
      ]
     },
     "execution_count": 26,
     "metadata": {},
     "output_type": "execute_result"
    }
   ],
   "source": [
    "df.shape"
   ]
  },
  {
   "cell_type": "code",
   "execution_count": 27,
   "id": "8596f0ae-0a85-46de-badf-fc060d9c12d8",
   "metadata": {},
   "outputs": [
    {
     "data": {
      "text/plain": [
       "name\n",
       "train    51\n",
       "Name: count, dtype: int64"
      ]
     },
     "execution_count": 27,
     "metadata": {},
     "output_type": "execute_result"
    }
   ],
   "source": [
    "df['name'].value_counts()"
   ]
  }
 ],
 "metadata": {
  "kernelspec": {
   "display_name": "Python 3 (ipykernel)",
   "language": "python",
   "name": "python3"
  },
  "language_info": {
   "codemirror_mode": {
    "name": "ipython",
    "version": 3
   },
   "file_extension": ".py",
   "mimetype": "text/x-python",
   "name": "python",
   "nbconvert_exporter": "python",
   "pygments_lexer": "ipython3",
   "version": "3.12.7"
  }
 },
 "nbformat": 4,
 "nbformat_minor": 5
}
